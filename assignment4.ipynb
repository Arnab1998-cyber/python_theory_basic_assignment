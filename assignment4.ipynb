{
 "cells": [
  {
   "cell_type": "markdown",
   "id": "632487c0",
   "metadata": {},
   "source": [
    "#1. \n",
    "\n",
    "[] is list"
   ]
  },
  {
   "cell_type": "markdown",
   "id": "fd31dd2b",
   "metadata": {},
   "source": [
    "#2. spam=[2,4,6,8,10]. how to add 'hello' in the  list?\n",
    "\n",
    "\n",
    "spam.append('hello')"
   ]
  },
  {
   "cell_type": "markdown",
   "id": "34aacd79",
   "metadata": {},
   "source": [
    "#3. spam=['a', 'b', 'c','d'] value of spam[int(int('3' * 2) / 11)]?\n",
    "\n",
    "\n",
    "spam[3]= 'd'"
   ]
  },
  {
   "cell_type": "markdown",
   "id": "5167e57c",
   "metadata": {},
   "source": [
    "#4. spam[-1]\n",
    "\n",
    "'d'"
   ]
  },
  {
   "cell_type": "markdown",
   "id": "90e8a172",
   "metadata": {},
   "source": [
    "#5. spam[:2]\n",
    "\n",
    "\n",
    "['a', 'b']"
   ]
  },
  {
   "cell_type": "markdown",
   "id": "3fe4def6",
   "metadata": {},
   "source": [
    "#6. bacon=[3.14, 'cat', 11, 'cat', True]\n",
    "\n",
    "bacon.index('cat')=1"
   ]
  },
  {
   "cell_type": "markdown",
   "id": "1be6071b",
   "metadata": {},
   "source": [
    "#7. bacon.append(99) \n",
    "\n",
    "after that 99 added in the list at the last\n",
    "\n",
    "bacon=[3.14, 'cat', 11, 'cat', True, '99]"
   ]
  },
  {
   "cell_type": "markdown",
   "id": "77503924",
   "metadata": {},
   "source": [
    "#8. bacon.remove('cat')\n",
    "\n",
    "it removes the 1st 'cat' in the list\n"
   ]
  },
  {
   "cell_type": "markdown",
   "id": "170daea0",
   "metadata": {},
   "source": [
    "#9. list concatination operator: '+'\n",
    "\n",
    "list replication operator: '*'"
   ]
  },
  {
   "cell_type": "markdown",
   "id": "97fe9aa8",
   "metadata": {},
   "source": [
    "#10. difference between append() and insert()\n",
    "\n",
    "by append() an element entered in the list at the last position\n",
    "\n",
    "by insert() we can insert an element at our chosen index"
   ]
  },
  {
   "cell_type": "markdown",
   "id": "a854db14",
   "metadata": {},
   "source": [
    "#11. two methods for removing items from a list\n",
    "\n",
    "pop() and remove()"
   ]
  },
  {
   "cell_type": "markdown",
   "id": "61dc331c",
   "metadata": {},
   "source": [
    "#12. how list and string values are identical\n",
    "\n",
    "they both have index"
   ]
  },
  {
   "cell_type": "markdown",
   "id": "51d87244",
   "metadata": {},
   "source": [
    "#13.  difference between tuples and list\n",
    "\n",
    "tuples are immutable but lists are mutable"
   ]
  },
  {
   "cell_type": "markdown",
   "id": "2073b3cd",
   "metadata": {},
   "source": [
    "#14. tuple that contains the integer 42\n",
    "\n",
    "(42)"
   ]
  },
  {
   "cell_type": "markdown",
   "id": "eb581862",
   "metadata": {},
   "source": [
    "#15. tuple(list object) to get tuple value of a list\n",
    "\n",
    "list(tuple object) to get list value of a tuple"
   ]
  },
  {
   "cell_type": "markdown",
   "id": "1d1183f7",
   "metadata": {},
   "source": [
    "#16. variables that contain list values \n",
    "\n",
    "they can be int, float, string, tuples, dictionaries, list"
   ]
  },
  {
   "cell_type": "markdown",
   "id": "f7e825c0",
   "metadata": {},
   "source": [
    "#17. distinguish between copy.copy() and copy.deepcopy()\n",
    "\n",
    "in copy module by deepcopy() we can copy a list in another variable and any change in the copied list do not refflect in the original list\n",
    "\n",
    "\n",
    "by copy() we can copy a list in another variable and any change in the copied list reflect in the original list"
   ]
  },
  {
   "cell_type": "code",
   "execution_count": null,
   "id": "1bfc8675",
   "metadata": {},
   "outputs": [],
   "source": []
  }
 ],
 "metadata": {
  "kernelspec": {
   "display_name": "Python 3 (ipykernel)",
   "language": "python",
   "name": "python3"
  },
  "language_info": {
   "codemirror_mode": {
    "name": "ipython",
    "version": 3
   },
   "file_extension": ".py",
   "mimetype": "text/x-python",
   "name": "python",
   "nbconvert_exporter": "python",
   "pygments_lexer": "ipython3",
   "version": "3.9.7"
  }
 },
 "nbformat": 4,
 "nbformat_minor": 5
}
