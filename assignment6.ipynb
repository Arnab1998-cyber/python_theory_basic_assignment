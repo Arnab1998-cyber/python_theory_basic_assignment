{
 "cells": [
  {
   "cell_type": "markdown",
   "id": "fdb4896b",
   "metadata": {},
   "source": [
    "#1. escape charachter and how it it is used\n",
    "\n",
    "to insert illegal charachters in a string we use escape character.\n",
    "\n",
    "it is used  by a backslash follwed by the charachter"
   ]
  },
  {
   "cell_type": "markdown",
   "id": "4e5d5e24",
   "metadata": {},
   "source": [
    "#2. escape charachter  n is for new line and t is for tab"
   ]
  },
  {
   "cell_type": "markdown",
   "id": "e687a964",
   "metadata": {},
   "source": [
    "#3. to include a backslash in a string we use double backslash...\\\\"
   ]
  },
  {
   "cell_type": "markdown",
   "id": "01f1242e",
   "metadata": {},
   "source": [
    "#4. single quote in \"Howl's Moving Castle\" is not a problem as string is under double quote"
   ]
  },
  {
   "cell_type": "markdown",
   "id": "26672ab2",
   "metadata": {},
   "source": [
    "#5. if we don't want to use new line character in string then for each line we use print() function"
   ]
  },
  {
   "cell_type": "markdown",
   "id": "e711de7a",
   "metadata": {},
   "source": [
    "#6. \"Hello World!\"[1]='e'\n",
    "\n",
    "'Hello, World!'[0:5]='Hello'\n",
    "\n",
    "'Hello World!'[:5]='Hello'\n",
    "\n",
    "'Hello World!'[3:]='lo, World!"
   ]
  },
  {
   "cell_type": "markdown",
   "id": "8fe37c5f",
   "metadata": {},
   "source": [
    "#7. 'Hello'.upper()='HELLO'\n",
    "\n",
    "'Hello'.upper().isupper()=True\n",
    "\n",
    "'Hello'.upper().lower()='hello'"
   ]
  },
  {
   "cell_type": "markdown",
   "id": "222ac3b3",
   "metadata": {},
   "source": [
    "#8. 'Remember, remember, the fifth of july'.split()\n",
    "\n",
    "['Remember,' , 'remember,', 'the', 'fifth', 'of', 'july'] \n",
    "\n",
    "'-'.join('There can only one'.split())='There-can-only-one"
   ]
  },
  {
   "cell_type": "markdown",
   "id": "5f1ac3fc",
   "metadata": {},
   "source": [
    "#9. ljust() for left-justifying, rjust() for right-justifying, center() for centering a string "
   ]
  },
  {
   "cell_type": "markdown",
   "id": "5a1f2e77",
   "metadata": {},
   "source": [
    "#10. best way of removing whitespace character from the start or end\n",
    "\n",
    "lstrip() for beginning or rstrip() for last and strip() for both side"
   ]
  },
  {
   "cell_type": "code",
   "execution_count": null,
   "id": "835c06f9",
   "metadata": {},
   "outputs": [],
   "source": []
  }
 ],
 "metadata": {
  "kernelspec": {
   "display_name": "Python 3 (ipykernel)",
   "language": "python",
   "name": "python3"
  },
  "language_info": {
   "codemirror_mode": {
    "name": "ipython",
    "version": 3
   },
   "file_extension": ".py",
   "mimetype": "text/x-python",
   "name": "python",
   "nbconvert_exporter": "python",
   "pygments_lexer": "ipython3",
   "version": "3.9.7"
  }
 },
 "nbformat": 4,
 "nbformat_minor": 5
}
