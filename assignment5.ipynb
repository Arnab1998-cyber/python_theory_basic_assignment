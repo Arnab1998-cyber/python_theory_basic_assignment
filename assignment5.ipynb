{
 "cells": [
  {
   "cell_type": "markdown",
   "id": "dfab9f9e",
   "metadata": {},
   "source": [
    "#1. empty dictionary code\n",
    "\n",
    "{}"
   ]
  },
  {
   "cell_type": "markdown",
   "id": "35d8fa72",
   "metadata": {},
   "source": [
    "#2. what is the value of a dictionary value with key 'foo' and value 42?\n",
    "\n",
    "{'key':42}"
   ]
  },
  {
   "cell_type": "markdown",
   "id": "9e2892a5",
   "metadata": {},
   "source": [
    "#3. significant distinction between list and dictionry\n",
    "\n",
    "items in the dictionary can be accessed by its key but in list items can be accessed by its index"
   ]
  },
  {
   "cell_type": "markdown",
   "id": "cf3db7e4",
   "metadata": {},
   "source": [
    "#4. there will be key error while we want to access spam[foo] while spam={'bar':100} "
   ]
  },
  {
   "cell_type": "markdown",
   "id": "e24f56cb",
   "metadata": {},
   "source": [
    "#5. spam is dictionary. difference between expression 'cat'in spam and 'cat'in spam.keys()\n",
    "\n",
    "no difference"
   ]
  },
  {
   "cell_type": "markdown",
   "id": "e7418aa2",
   "metadata": {},
   "source": [
    "#6. difference between expression 'cat'in spam and 'cat'in spam.values()\n",
    "\n",
    "'cat' in spam is an keys but in spam.values() it is value"
   ]
  },
  {
   "cell_type": "markdown",
   "id": "52e6baf8",
   "metadata": {},
   "source": [
    "#7. shortcut for\n",
    "\n",
    "  if 'color'is not in spam\n",
    "     \n",
    "         spam['color']='black'\n",
    "         \n",
    "  spam.setdefault('color', 'black')       "
   ]
  },
  {
   "cell_type": "markdown",
   "id": "55b6a050",
   "metadata": {},
   "source": [
    "#8. how to 'pretty print' dictionary values using which module and function?\n",
    "\n",
    "pprint module and pprint() function"
   ]
  },
  {
   "cell_type": "code",
   "execution_count": null,
   "id": "8444c296",
   "metadata": {},
   "outputs": [],
   "source": []
  }
 ],
 "metadata": {
  "kernelspec": {
   "display_name": "Python 3 (ipykernel)",
   "language": "python",
   "name": "python3"
  },
  "language_info": {
   "codemirror_mode": {
    "name": "ipython",
    "version": 3
   },
   "file_extension": ".py",
   "mimetype": "text/x-python",
   "name": "python",
   "nbconvert_exporter": "python",
   "pygments_lexer": "ipython3",
   "version": "3.9.7"
  }
 },
 "nbformat": 4,
 "nbformat_minor": 5
}
