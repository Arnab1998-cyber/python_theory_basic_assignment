{
 "cells": [
  {
   "cell_type": "markdown",
   "id": "bbb5e648",
   "metadata": {},
   "source": [
    "#1 advantage of function\n",
    "\n",
    "function reduce the length of code, it makes a code more easier to read and understandable to others"
   ]
  },
  {
   "cell_type": "markdown",
   "id": "93e99fb9",
   "metadata": {},
   "source": [
    "#2. when a function runs in a code\n",
    "\n",
    "when function is called"
   ]
  },
  {
   "cell_type": "markdown",
   "id": "d12fb1ac",
   "metadata": {},
   "source": [
    "#3. what statement creates a function\n",
    "\n",
    "def keyword followed by function name with 1st bracket and : creates a function"
   ]
  },
  {
   "cell_type": "markdown",
   "id": "7077ab51",
   "metadata": {},
   "source": [
    "#4. deffernce between function and function call\n",
    "\n",
    "a funcion is a procedure by which we perform a particular task\n",
    "\n",
    "a funnctionn call is a method by which we start the procedure to perform a difinte task"
   ]
  },
  {
   "cell_type": "markdown",
   "id": "bcc6c0ee",
   "metadata": {},
   "source": [
    "#5. number of global and local scopes\n",
    "\n",
    "there is one global scope in a program\n",
    "\n",
    "number of local  scopes\n",
    "\n",
    "every time we call  a function there create a local scope of variables"
   ]
  },
  {
   "cell_type": "markdown",
   "id": "90381f06",
   "metadata": {},
   "source": [
    "#6. \n",
    "\n",
    "after returns the local scope of variables ends."
   ]
  },
  {
   "cell_type": "markdown",
   "id": "00a26d58",
   "metadata": {},
   "source": [
    "#7. concept of return value\n",
    "\n",
    "it returns the result after the function execution to the caller"
   ]
  },
  {
   "cell_type": "markdown",
   "id": "d29940f5",
   "metadata": {},
   "source": [
    "#8. \n",
    "\n",
    "if a function has no return statement then the return value is none"
   ]
  },
  {
   "cell_type": "markdown",
   "id": "198e7b5c",
   "metadata": {},
   "source": [
    "#9. \n",
    "\n",
    "to refer to the global variable we can use global keyword"
   ]
  },
  {
   "cell_type": "markdown",
   "id": "b8342245",
   "metadata": {},
   "source": [
    "#10. datatype of None\n",
    "\n",
    "Nonetype"
   ]
  },
  {
   "cell_type": "markdown",
   "id": "acee7921",
   "metadata": {},
   "source": [
    "#11. \n",
    "if i don't have such module named areallyourpetsnamederic, the statement \n",
    "\n",
    "import areallyourpetsnamederic gives error"
   ]
  },
  {
   "cell_type": "markdown",
   "id": "8ea380cc",
   "metadata": {},
   "source": [
    "#12. from a module spam if we have to call the function bacon()\n",
    "\n",
    "after importing spam module we use spam.bacon()"
   ]
  },
  {
   "cell_type": "markdown",
   "id": "5de332bf",
   "metadata": {},
   "source": [
    "#13. how to save a program from crashing if it encounters an error?\n",
    "\n",
    "we can use exception handling i.e., try, exception syntax"
   ]
  },
  {
   "cell_type": "markdown",
   "id": "3b861685",
   "metadata": {},
   "source": [
    "#14. purpose of try clause\n",
    "\n",
    "try block takes the suspicious code inside itself. the code will executed until control doesn't face any error\n",
    "\n",
    "\n",
    "purpose of except block\n",
    "\n",
    "if there is an error in try block, the error is handeld by the except block\n"
   ]
  },
  {
   "cell_type": "markdown",
   "id": "ffbc4e70",
   "metadata": {},
   "source": []
  },
  {
   "cell_type": "code",
   "execution_count": null,
   "id": "7c0ff07e",
   "metadata": {},
   "outputs": [],
   "source": []
  }
 ],
 "metadata": {
  "kernelspec": {
   "display_name": "Python 3 (ipykernel)",
   "language": "python",
   "name": "python3"
  },
  "language_info": {
   "codemirror_mode": {
    "name": "ipython",
    "version": 3
   },
   "file_extension": ".py",
   "mimetype": "text/x-python",
   "name": "python",
   "nbconvert_exporter": "python",
   "pygments_lexer": "ipython3",
   "version": "3.9.7"
  }
 },
 "nbformat": 4,
 "nbformat_minor": 5
}
