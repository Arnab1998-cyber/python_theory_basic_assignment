{
 "cells": [
  {
   "cell_type": "markdown",
   "id": "dad02763",
   "metadata": {},
   "source": [
    "#1. \n",
    "\n",
    "\n",
    "*,-,/,+ are expression\n",
    "\n",
    "'hello', -87.8, 6 are values"
   ]
  },
  {
   "cell_type": "markdown",
   "id": "707eead4",
   "metadata": {},
   "source": [
    "#2. defference between string and variable\n",
    "\n",
    "\n",
    "A variable is such  an entity which can store data in any data-type. a variable may be integer, float or string.\n",
    "\n",
    "A string is a datatype, it consists of words enclosed in \" \"."
   ]
  },
  {
   "cell_type": "markdown",
   "id": "32cf3667",
   "metadata": {},
   "source": [
    "#3. Describe three datatypes\n",
    "\n",
    "\n",
    "int : it is integer\n",
    "\n",
    "float: it is real numbers. it has digits after the point. e.g., 4.0, 4.23 etc.\n",
    "\n",
    "string: it consists of words or number enclosed in double quotes or single quotes. "
   ]
  },
  {
   "cell_type": "markdown",
   "id": "eea30e0d",
   "metadata": {},
   "source": [
    "#4. what is expression made up of? what do all expressions do?\n",
    "\n",
    "\n",
    "expression is made of operators and operands. e.g., 4+5, 4/5\n",
    "\n",
    "expressions produce new value."
   ]
  },
  {
   "cell_type": "markdown",
   "id": "20315bb8",
   "metadata": {},
   "source": [
    "#5. differnce between expression and statement\n",
    "\n",
    "expression  gives some value. but expression perform some action e.g., if statement..."
   ]
  },
  {
   "cell_type": "markdown",
   "id": "f38698c3",
   "metadata": {},
   "source": [
    "#6. bacon=22 \n",
    "bacon+1\n",
    "\n",
    "after completion of the code bacon contains 22"
   ]
  },
  {
   "cell_type": "markdown",
   "id": "dc16ff9e",
   "metadata": {},
   "source": [
    "#7. \n",
    "\n",
    "'spam' + 'spamspam' becomes 'spamspamspam'\n",
    "\n",
    "'spam'*3 becomes 'spamspamspam'"
   ]
  },
  {
   "cell_type": "markdown",
   "id": "1f11b50f",
   "metadata": {},
   "source": [
    "#8. eggs is valid variable but 100 is not.\n",
    "\n",
    "variable names cannot begin with numbers"
   ]
  },
  {
   "cell_type": "markdown",
   "id": "ccc9dfce",
   "metadata": {},
   "source": [
    "#9.\n",
    "\n",
    "int()\n",
    "\n",
    "float()\n",
    "\n",
    "str()"
   ]
  },
  {
   "cell_type": "markdown",
   "id": "e84863fb",
   "metadata": {},
   "source": [
    "#10. \n",
    "\n",
    "'I have eaten' is string but 99 is an integer. string and integer can not be added.\n",
    "\n",
    "to fix the error we have to put 99 under double or single quotes. i.e., '99'"
   ]
  },
  {
   "cell_type": "code",
   "execution_count": null,
   "id": "3065126e",
   "metadata": {},
   "outputs": [],
   "source": []
  }
 ],
 "metadata": {
  "kernelspec": {
   "display_name": "Python 3 (ipykernel)",
   "language": "python",
   "name": "python3"
  },
  "language_info": {
   "codemirror_mode": {
    "name": "ipython",
    "version": 3
   },
   "file_extension": ".py",
   "mimetype": "text/x-python",
   "name": "python",
   "nbconvert_exporter": "python",
   "pygments_lexer": "ipython3",
   "version": "3.9.7"
  }
 },
 "nbformat": 4,
 "nbformat_minor": 5
}
